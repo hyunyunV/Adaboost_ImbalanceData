{
 "cells": [
  {
   "cell_type": "code",
   "execution_count": 1,
   "metadata": {},
   "outputs": [],
   "source": [
    "import Modules\n",
    "import pandas as pd\n",
    "import numpy as np\n",
    "import warnings\n",
    "warnings.filterwarnings('ignore')"
   ]
  },
  {
   "cell_type": "markdown",
   "metadata": {},
   "source": [
    "# 파일 읽어들이기"
   ]
  },
  {
   "cell_type": "code",
   "execution_count": 2,
   "metadata": {},
   "outputs": [],
   "source": [
    "xlsx500 = pd.read_csv('Datas/resample_cc_500.csv') # copy는 excel읽을 때였음\n",
    "xlsx1000 = pd.read_csv('Datas/resample_cc_1000.csv')\n",
    "xlsx2000 = pd.read_csv('Datas/resample_cc_2000.csv') \n",
    "xlsx5000 = pd.read_csv('Datas/resample_cc_5000.csv')\n",
    "xlsx10000 = pd.read_csv('Datas/resample_cc_10000.csv')\n",
    "\n",
    "# 파일 iter 가능 하도록 리스트에 담기\n",
    "xlsxs = [xlsx500, xlsx1000, xlsx2000, xlsx5000, xlsx10000]"
   ]
  },
  {
   "cell_type": "markdown",
   "metadata": {},
   "source": [
    "# 하이퍼 파라미터들 _ 앞으로도 쉽게 조정할 수 있도록 많이 함수화"
   ]
  },
  {
   "cell_type": "code",
   "execution_count": 3,
   "metadata": {},
   "outputs": [],
   "source": [
    "n_fold = 10 # 3 * 10 만큰 fold 함\n",
    "n_est = 25 # leaf 갯수 "
   ]
  },
  {
   "cell_type": "markdown",
   "metadata": {},
   "source": [
    "# 기본 모델"
   ]
  },
  {
   "cell_type": "code",
   "execution_count": 4,
   "metadata": {},
   "outputs": [],
   "source": [
    "from sklearn.ensemble import AdaBoostClassifier\n",
    "\n",
    "clf = AdaBoostClassifier(n_estimators=n_est, \n",
    "                        random_state=10, \n",
    "                        learning_rate=0.1) # adaboost 선언"
   ]
  },
  {
   "cell_type": "markdown",
   "metadata": {},
   "source": [
    "# Test"
   ]
  },
  {
   "cell_type": "code",
   "execution_count": null,
   "metadata": {},
   "outputs": [],
   "source": [
    "for i in xlsxs:\n",
    "    print(\"================================================\",i,\"================================================\")\n",
    "    Modules.defaultfit(clf, i, n_fold)\n",
    "    Modules.aucweightfit(clf, i, n_fold)"
   ]
  },
  {
   "cell_type": "markdown",
   "metadata": {},
   "source": [
    "# 결과 데이터 로드"
   ]
  },
  {
   "cell_type": "code",
   "execution_count": 2,
   "metadata": {},
   "outputs": [],
   "source": [
    "auc_res = Modules.readexcel('Result/AUCfit',[1000,1500,2500,5500])\n",
    "def_res = Modules.readexcel('Result/defalutfit',[1000,1500,2500,5500,10500])"
   ]
  },
  {
   "cell_type": "markdown",
   "metadata": {},
   "source": [
    "# 데이터 분석_centroid_cluster"
   ]
  },
  {
   "cell_type": "code",
   "execution_count": 3,
   "metadata": {},
   "outputs": [
    {
     "name": "stdout",
     "output_type": "stream",
     "text": [
      "------------------------------\n",
      " acc_mean : 0.89 \n",
      " acc_std : 0.04 \n",
      " auc_mean : 0.95 \n",
      " auc_std : 0.03 \n",
      "------------------------------\n",
      "------------------------------\n",
      " acc_mean : 0.87 \n",
      " acc_std : 0.03 \n",
      " auc_mean : 0.94 \n",
      " auc_std : 0.04 \n",
      "------------------------------\n",
      "------------------------------\n",
      " acc_mean : 0.85 \n",
      " acc_std : 0.03 \n",
      " auc_mean : 0.92 \n",
      " auc_std : 0.03 \n",
      "------------------------------\n",
      "------------------------------\n",
      " acc_mean : 0.80 \n",
      " acc_std : 0.01 \n",
      " auc_mean : 0.88 \n",
      " auc_std : 0.04 \n",
      "------------------------------\n"
     ]
    }
   ],
   "source": [
    "# AUC fit의 결과들 500 1000 2000 5000 10000\n",
    "Modules.valaccauc(auc_res)"
   ]
  },
  {
   "cell_type": "code",
   "execution_count": 4,
   "metadata": {},
   "outputs": [
    {
     "name": "stdout",
     "output_type": "stream",
     "text": [
      "------------------------------\n",
      " acc_mean : 0.72 \n",
      " acc_std : 0.14 \n",
      " auc_mean : 0.86 \n",
      " auc_std : 0.15 \n",
      "------------------------------\n",
      "------------------------------\n",
      " acc_mean : 0.67 \n",
      " acc_std : 0.00 \n",
      " auc_mean : 0.82 \n",
      " auc_std : 0.14 \n",
      "------------------------------\n",
      "------------------------------\n",
      " acc_mean : 0.80 \n",
      " acc_std : 0.00 \n",
      " auc_mean : 0.82 \n",
      " auc_std : 0.13 \n",
      "------------------------------\n",
      "------------------------------\n",
      " acc_mean : 0.91 \n",
      " acc_std : 0.00 \n",
      " auc_mean : 0.77 \n",
      " auc_std : 0.11 \n",
      "------------------------------\n",
      "------------------------------\n",
      " acc_mean : 0.95 \n",
      " acc_std : 0.00 \n",
      " auc_mean : 0.73 \n",
      " auc_std : 0.10 \n",
      "------------------------------\n"
     ]
    }
   ],
   "source": [
    "# default fit 의 결과들 500 1000 2000 5000 10000\n",
    "Modules.valaccauc(def_res)"
   ]
  },
  {
   "cell_type": "markdown",
   "metadata": {},
   "source": [
    "# kmedois"
   ]
  },
  {
   "cell_type": "code",
   "execution_count": 11,
   "metadata": {},
   "outputs": [],
   "source": [
    "auc_res = Modules.readexcel('Result/AUCfit_km',[1000,1500])\n",
    "def_res = Modules.readexcel('Result/defalutfit_km',[1000,1500,2500])"
   ]
  },
  {
   "cell_type": "code",
   "execution_count": 12,
   "metadata": {},
   "outputs": [
    {
     "name": "stdout",
     "output_type": "stream",
     "text": [
      "------------------------------\n",
      " acc_mean : 0.73 \n",
      " acc_std : 0.06 \n",
      " auc_mean : 0.80 \n",
      " auc_std : 0.06 \n",
      "------------------------------\n",
      "------------------------------\n",
      " acc_mean : 0.67 \n",
      " acc_std : 0.00 \n",
      " auc_mean : 0.80 \n",
      " auc_std : 0.05 \n",
      "------------------------------\n"
     ]
    }
   ],
   "source": [
    "# AUC fit의 결과들 500 1000 2000 5000 10000\n",
    "Modules.valaccauc(auc_res)"
   ]
  },
  {
   "cell_type": "code",
   "execution_count": 13,
   "metadata": {},
   "outputs": [
    {
     "name": "stdout",
     "output_type": "stream",
     "text": [
      "------------------------------\n",
      " acc_mean : 0.68 \n",
      " acc_std : 0.08 \n",
      " auc_mean : 0.75 \n",
      " auc_std : 0.10 \n",
      "------------------------------\n",
      "------------------------------\n",
      " acc_mean : 0.67 \n",
      " acc_std : 0.00 \n",
      " auc_mean : 0.76 \n",
      " auc_std : 0.07 \n",
      "------------------------------\n",
      "------------------------------\n",
      " acc_mean : 0.80 \n",
      " acc_std : 0.00 \n",
      " auc_mean : 0.75 \n",
      " auc_std : 0.06 \n",
      "------------------------------\n"
     ]
    }
   ],
   "source": [
    "# default fit 의 결과들 500 1000 2000 5000 10000\n",
    "Modules.valaccauc(def_res)"
   ]
  },
  {
   "cell_type": "code",
   "execution_count": null,
   "metadata": {},
   "outputs": [],
   "source": [
    "np.array(auc_res[0].iloc[4,1:reslen+1])"
   ]
  },
  {
   "cell_type": "code",
   "execution_count": null,
   "metadata": {},
   "outputs": [],
   "source": [
    "resultlist = []\n",
    "for data in auc_res:\n",
    "    reslen = int((data.shape[1]) / 2)\n",
    "    accs = np.array(data.iloc[4,1:reslen+1])\n",
    "    aucs = np.array(data.iloc[4,reslen+1:data.shape[1]])\n",
    "    print( '-' * 30 )\n",
    "    print(' acc_mean : %.2f \\n acc_std : %.2f \\n auc_mean : %.2f \\n auc_std : %.2f ' % (np.mean(accs), np.std(accs), np.mean(aucs), np.std(aucs)) )\n",
    "    print( '-' * 30 )"
   ]
  },
  {
   "cell_type": "code",
   "execution_count": null,
   "metadata": {},
   "outputs": [],
   "source": [
    "auc_res"
   ]
  },
  {
   "cell_type": "code",
   "execution_count": null,
   "metadata": {},
   "outputs": [],
   "source": [
    "data.iloc[4,1:reslen+1]"
   ]
  },
  {
   "cell_type": "code",
   "execution_count": null,
   "metadata": {},
   "outputs": [],
   "source": [
    "data.iloc[4,reslen+1:data.shape[1]]"
   ]
  },
  {
   "cell_type": "code",
   "execution_count": null,
   "metadata": {},
   "outputs": [],
   "source": [
    "np.std(aucs)"
   ]
  },
  {
   "cell_type": "code",
   "execution_count": null,
   "metadata": {},
   "outputs": [],
   "source": [
    "accs"
   ]
  },
  {
   "cell_type": "code",
   "execution_count": null,
   "metadata": {},
   "outputs": [],
   "source": []
  }
 ],
 "metadata": {
  "kernelspec": {
   "display_name": "Python 3",
   "language": "python",
   "name": "python3"
  },
  "language_info": {
   "codemirror_mode": {
    "name": "ipython",
    "version": 3
   },
   "file_extension": ".py",
   "mimetype": "text/x-python",
   "name": "python",
   "nbconvert_exporter": "python",
   "pygments_lexer": "ipython3",
   "version": "3.8.5"
  }
 },
 "nbformat": 4,
 "nbformat_minor": 4
}
