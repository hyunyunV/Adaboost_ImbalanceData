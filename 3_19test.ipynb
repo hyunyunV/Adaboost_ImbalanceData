{
 "cells": [
  {
   "cell_type": "code",
   "execution_count": 1,
   "metadata": {},
   "outputs": [],
   "source": [
    "import Oncetrain\n",
    "import pandas as pd\n",
    "import numpy as np\n",
    "import warnings\n",
    "warnings.filterwarnings('ignore')"
   ]
  },
  {
   "cell_type": "markdown",
   "metadata": {},
   "source": [
    "# 파일 읽어들이기"
   ]
  },
  {
   "cell_type": "code",
   "execution_count": 2,
   "metadata": {},
   "outputs": [],
   "source": [
    "xlsx500 = pd.read_csv('Datas/resample_cc_500.csv') # copy는 excel읽을 때였음\n",
    "xlsx1000 = pd.read_csv('Datas/resample_cc_1000.csv')\n",
    "xlsx2000 = pd.read_csv('Datas/resample_cc_2000.csv') \n",
    "xlsx5000 = pd.read_csv('Datas/resample_cc_5000.csv')\n",
    "xlsx10000 = pd.read_csv('Datas/resample_cc_10000.csv')\n",
    "\n",
    "# 파일 iter 가능 하도록 리스트에 담기\n",
    "xlsxs = [xlsx500, xlsx1000, xlsx2000, xlsx5000, xlsx10000]"
   ]
  },
  {
   "cell_type": "markdown",
   "metadata": {},
   "source": [
    "# 하이퍼 파라미터들 _ 앞으로도 쉽게 조정할 수 있도록 많이 함수화"
   ]
  },
  {
   "cell_type": "code",
   "execution_count": 7,
   "metadata": {},
   "outputs": [],
   "source": [
    "n_fold = 3 # 3 * 10 만큰 fold 함\n",
    "n_est = 3 # leaf 갯수 "
   ]
  },
  {
   "cell_type": "markdown",
   "metadata": {},
   "source": [
    "# 기본 모델"
   ]
  },
  {
   "cell_type": "code",
   "execution_count": 8,
   "metadata": {},
   "outputs": [],
   "source": [
    "from sklearn.ensemble import AdaBoostClassifier\n",
    "\n",
    "clf = AdaBoostClassifier(n_estimators=n_est, \n",
    "                        random_state=10, \n",
    "                        learning_rate=0.1) # adaboost 선언"
   ]
  },
  {
   "cell_type": "markdown",
   "metadata": {},
   "source": [
    "# Test"
   ]
  },
  {
   "cell_type": "code",
   "execution_count": null,
   "metadata": {
    "scrolled": false
   },
   "outputs": [
    {
     "name": "stdout",
     "output_type": "stream",
     "text": [
      "================================================ Fit 데이터크기 1000 ================================================\n",
      "================================================ 0 번째================================================\n",
      "1\n",
      "1\n",
      "0.5909139804223887\n",
      "\n",
      "#1 교차 검증 정확도 :0.7874, 학습 데이터 크기: 666, 검증 데이터 크기: 334\n",
      "\n",
      "1 검증 세트 인덱스:0        0\n",
      "1        1\n",
      "2        2\n",
      "3        3\n",
      "4        4\n",
      "      ... \n",
      "662    662\n",
      "663    663\n",
      "664    664\n",
      "665    665\n",
      "666    666\n",
      "Name: Unnamed: 0, Length: 334, dtype: int64\n",
      "\n",
      "1      예측0  예측1\n",
      "실제0  160    7\n",
      "실제1   64  103 \n",
      " acc: 0.7874 auc: 0.8488113593172936\n",
      "Optimization terminated successfully.    (Exit mode 0)\n",
      "            Current function value: 0.08243378513648769\n",
      "            Iterations: 8\n",
      "            Function evaluations: 58\n",
      "            Gradient evaluations: 8\n",
      "Threshold point:  [0.3460841476917267]\n",
      "0.7746781885331134\n",
      "\n",
      "\n",
      "1      예측0  예측1\n",
      "실제0  149   18\n",
      "실제1   22  145 \n",
      " acc: 0.8802 auc: 0.9341317365269461\n",
      "     0       0_1       1_1       0_2       1_2       0_3       1_3\n",
      "0    0  0.320846  0.679154  0.672796  0.327204  0.515109  0.484891\n",
      "1    0  0.319205  0.680795  0.674560  0.325440  0.519387  0.480613\n",
      "2    0  0.323134  0.676866  0.676348  0.323652  0.506972  0.493028\n",
      "3    0  0.322116  0.677884  0.673491  0.326509  0.518948  0.481052\n",
      "4    0  0.321863  0.678137  0.673662  0.326338  0.515597  0.484403\n",
      "..  ..       ...       ...       ...       ...       ...       ...\n",
      "661  1  0.327421  0.672579  0.671469  0.328531  0.492288  0.507712\n",
      "662  1  0.329638  0.670362  0.670810  0.329190  0.494192  0.505808\n",
      "663  1  0.321987  0.678013  0.672943  0.327057  0.478639  0.521361\n",
      "664  1  0.324825  0.675175  0.672036  0.327964  0.503619  0.496381\n",
      "665  1  0.321916  0.678084  0.673145  0.326855  0.480908  0.519092\n",
      "\n",
      "[666 rows x 7 columns]\n",
      "1\n",
      "1\n",
      "0.0\n",
      "\n",
      "#2 교차 검증 정확도 :0.5015, 학습 데이터 크기: 667, 검증 데이터 크기: 333\n",
      "\n",
      "2 검증 세트 인덱스:167    167\n",
      "168    168\n",
      "169    169\n",
      "170    170\n",
      "171    171\n",
      "      ... \n",
      "828    828\n",
      "829    829\n",
      "830    830\n",
      "831    831\n",
      "832    832\n",
      "Name: Unnamed: 0, Length: 333, dtype: int64\n",
      "\n",
      "2      예측0  예측1\n",
      "실제0  167    0\n",
      "실제1  166    0 \n",
      " acc: 0.5015 auc: 0.22060096674121638\n",
      "Optimization terminated successfully.    (Exit mode 0)\n",
      "            Current function value: 0.06888924852996703\n",
      "            Iterations: 6\n",
      "            Function evaluations: 30\n",
      "            Gradient evaluations: 6\n",
      "Threshold point:  [0.24316677451133728]\n",
      "0.7324868335617921\n",
      "\n",
      "\n",
      "2      예측0  예측1\n",
      "실제0  142   25\n",
      "실제1   23  143 \n",
      " acc: 0.8559 auc: 0.9263400909025323\n",
      "     0       0_1       1_1       0_2       1_2       0_3       1_3\n",
      "0    0  0.756958  0.243042  0.506180  0.493820  0.627275  0.372725\n",
      "1    0  0.757165  0.242835  0.507980  0.492020  0.626127  0.373873\n",
      "2    0  0.756972  0.243028  0.506568  0.493432  0.627434  0.372566\n",
      "3    0  0.757246  0.242754  0.508772  0.491228  0.623837  0.376163\n",
      "4    0  0.756946  0.243054  0.506272  0.493728  0.627865  0.372135\n",
      "..  ..       ...       ...       ...       ...       ...       ...\n",
      "662  1  0.755991  0.244009  0.504041  0.495959  0.634644  0.365356\n",
      "663  1  0.755751  0.244249  0.503186  0.496814  0.635019  0.364981\n",
      "664  1  0.755828  0.244172  0.504427  0.495574  0.637056  0.362944\n",
      "665  1  0.756399  0.243601  0.504942  0.495058  0.634055  0.365945\n",
      "666  1  0.755999  0.244001  0.504698  0.495302  0.639668  0.360332\n",
      "\n",
      "[667 rows x 7 columns]\n",
      "1\n",
      "1\n",
      "0.0\n",
      "\n",
      "#3 교차 검증 정확도 :0.5015, 학습 데이터 크기: 667, 검증 데이터 크기: 333\n",
      "\n",
      "3 검증 세트 인덱스:334    334\n",
      "335    335\n",
      "336    336\n",
      "337    337\n",
      "338    338\n",
      "      ... \n",
      "995    995\n",
      "996    996\n",
      "997    997\n",
      "998    998\n",
      "999    999\n",
      "Name: Unnamed: 0, Length: 333, dtype: int64\n",
      "\n",
      "3      예측0  예측1\n",
      "실제0    0  166\n",
      "실제1    0  167 \n",
      " acc: 0.5015 auc: 0.7741144217588919\n",
      "Optimization terminated successfully.    (Exit mode 0)\n",
      "            Current function value: 0.11943680207153262\n",
      "            Iterations: 5\n",
      "            Function evaluations: 36\n",
      "            Gradient evaluations: 5\n",
      "Threshold point:  [0.6643677353858948]\n",
      "0.61774042276892\n",
      "\n",
      "\n",
      "3      예측0  예측1\n",
      "실제0  137   29\n",
      "실제1   42  125 \n",
      " acc: 0.7868 auc: 0.833399466127985\n",
      "     0       0_1       1_1       0_2       1_2       0_3       1_3\n",
      "0    0  0.246423  0.753577  0.349055  0.650945  0.611493  0.388507\n",
      "1    0  0.246692  0.753308  0.349999  0.650001  0.611214  0.388786\n",
      "2    0  0.246678  0.753322  0.348499  0.651501  0.611629  0.388371\n",
      "3    0  0.247759  0.752241  0.350900  0.649100  0.611092  0.388908\n",
      "4    0  0.245671  0.754329  0.349044  0.650956  0.611484  0.388516\n",
      "..  ..       ...       ...       ...       ...       ...       ...\n",
      "662  1  0.245473  0.754527  0.346303  0.653697  0.612421  0.387579\n",
      "663  1  0.247791  0.752209  0.346649  0.653351  0.611920  0.388080\n",
      "664  1  0.248884  0.751117  0.346585  0.653415  0.611347  0.388653\n",
      "665  1  0.252638  0.747362  0.347643  0.652357  0.610871  0.389129\n",
      "666  1  0.247407  0.752593  0.346689  0.653311  0.612408  0.387592\n",
      "\n",
      "[667 rows x 7 columns]\n",
      "================================================ 1 번째================================================\n",
      "1\n",
      "1\n"
     ]
    }
   ],
   "source": [
    "for i in xlsxs:\n",
    "    Oncetrain.oncefit(clf,i,n_fold,1)"
   ]
  },
  {
   "cell_type": "markdown",
   "metadata": {},
   "source": [
    "# 결과 데이터 로드"
   ]
  },
  {
   "cell_type": "code",
   "execution_count": null,
   "metadata": {},
   "outputs": [],
   "source": [
    "auc_res = Modules.readexcel('Result/AUCfit',[1000,1500,2500,5500])\n",
    "def_res = Modules.readexcel('Result/defalutfit',[1000,1500,2500,5500,10500])"
   ]
  },
  {
   "cell_type": "markdown",
   "metadata": {},
   "source": [
    "# 데이터 분석_centroid_cluster"
   ]
  },
  {
   "cell_type": "code",
   "execution_count": null,
   "metadata": {},
   "outputs": [],
   "source": [
    "# AUC fit의 결과들 500 1000 2000 5000 10000\n",
    "Modules.valaccauc(auc_res)"
   ]
  },
  {
   "cell_type": "code",
   "execution_count": null,
   "metadata": {},
   "outputs": [],
   "source": [
    "# default fit 의 결과들 500 1000 2000 5000 10000\n",
    "Modules.valaccauc(def_res)"
   ]
  },
  {
   "cell_type": "markdown",
   "metadata": {},
   "source": [
    "# kmedois"
   ]
  },
  {
   "cell_type": "code",
   "execution_count": null,
   "metadata": {},
   "outputs": [],
   "source": [
    "auc_res = Modules.readexcel('Result/AUCfit_km',[1000,1500])\n",
    "def_res = Modules.readexcel('Result/defalutfit_km',[1000,1500,2500])"
   ]
  },
  {
   "cell_type": "code",
   "execution_count": null,
   "metadata": {},
   "outputs": [],
   "source": [
    "# AUC fit의 결과들 500 1000 2000 5000 10000\n",
    "Modules.valaccauc(auc_res)"
   ]
  },
  {
   "cell_type": "code",
   "execution_count": null,
   "metadata": {},
   "outputs": [],
   "source": [
    "# default fit 의 결과들 500 1000 2000 5000 10000\n",
    "Modules.valaccauc(def_res)"
   ]
  },
  {
   "cell_type": "code",
   "execution_count": null,
   "metadata": {},
   "outputs": [],
   "source": [
    "np.array(auc_res[0].iloc[4,1:reslen+1])"
   ]
  },
  {
   "cell_type": "code",
   "execution_count": null,
   "metadata": {},
   "outputs": [],
   "source": [
    "resultlist = []\n",
    "for data in auc_res:\n",
    "    reslen = int((data.shape[1]) / 2)\n",
    "    accs = np.array(data.iloc[4,1:reslen+1])\n",
    "    aucs = np.array(data.iloc[4,reslen+1:data.shape[1]])\n",
    "    print( '-' * 30 )\n",
    "    print(' acc_mean : %.2f \\n acc_std : %.2f \\n auc_mean : %.2f \\n auc_std : %.2f ' % (np.mean(accs), np.std(accs), np.mean(aucs), np.std(aucs)) )\n",
    "    print( '-' * 30 )"
   ]
  },
  {
   "cell_type": "code",
   "execution_count": null,
   "metadata": {},
   "outputs": [],
   "source": [
    "auc_res"
   ]
  },
  {
   "cell_type": "code",
   "execution_count": null,
   "metadata": {},
   "outputs": [],
   "source": [
    "data.iloc[4,1:reslen+1]"
   ]
  },
  {
   "cell_type": "code",
   "execution_count": null,
   "metadata": {},
   "outputs": [],
   "source": [
    "data.iloc[4,reslen+1:data.shape[1]]"
   ]
  },
  {
   "cell_type": "code",
   "execution_count": null,
   "metadata": {},
   "outputs": [],
   "source": [
    "np.std(aucs)"
   ]
  },
  {
   "cell_type": "code",
   "execution_count": null,
   "metadata": {},
   "outputs": [],
   "source": [
    "xlsx500.iloc[:,11]"
   ]
  },
  {
   "cell_type": "code",
   "execution_count": null,
   "metadata": {},
   "outputs": [],
   "source": []
  }
 ],
 "metadata": {
  "kernelspec": {
   "display_name": "Python 3",
   "language": "python",
   "name": "python3"
  },
  "language_info": {
   "codemirror_mode": {
    "name": "ipython",
    "version": 3
   },
   "file_extension": ".py",
   "mimetype": "text/x-python",
   "name": "python",
   "nbconvert_exporter": "python",
   "pygments_lexer": "ipython3",
   "version": "3.7.6"
  }
 },
 "nbformat": 4,
 "nbformat_minor": 4
}
