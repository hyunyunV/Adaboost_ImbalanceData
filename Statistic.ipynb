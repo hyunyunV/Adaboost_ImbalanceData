{
 "cells": [
  {
   "cell_type": "code",
   "execution_count": 1,
   "metadata": {},
   "outputs": [],
   "source": [
    "from scipy import stats\n",
    "import pandas as pd\n",
    "from Oncetrain import * \n",
    "from Stat import *"
   ]
  },
  {
   "cell_type": "code",
   "execution_count": 34,
   "metadata": {},
   "outputs": [],
   "source": [
    "Result_AUC = pd.read_excel(\"Result/AUCfit1000.xlsx\")\n",
    "Result_AUC.set_index(\"Unnamed: 0\",inplace = True)"
   ]
  },
  {
   "cell_type": "code",
   "execution_count": 35,
   "metadata": {},
   "outputs": [],
   "source": [
    "Datalen = int (Result_AUC.shape[1] / 2)"
   ]
  },
  {
   "cell_type": "code",
   "execution_count": 36,
   "metadata": {},
   "outputs": [],
   "source": [
    "AUC_acc = Result_AUC.loc['accauc'][:Datalen]\n",
    "AUC_auc = Result_AUC.loc['accauc'][Datalen:]\n",
    "AUC_geoacc = Result_AUC.loc['geoacc'][Datalen:]"
   ]
  },
  {
   "cell_type": "code",
   "execution_count": 38,
   "metadata": {},
   "outputs": [],
   "source": [
    "Result_Def = pd.read_excel(\"Result/defalutfit1000.xlsx\")\n",
    "Result_Def.set_index(\"Unnamed: 0\",inplace = True)"
   ]
  },
  {
   "cell_type": "code",
   "execution_count": 39,
   "metadata": {},
   "outputs": [],
   "source": [
    "Def_acc = Result_Def.loc['accauc'][:Datalen]\n",
    "Def_auc = Result_Def.loc['accauc'][Datalen:]\n",
    "Def_geoacc = Result_Def.loc['geoacc'][Datalen:]"
   ]
  },
  {
   "cell_type": "code",
   "execution_count": 40,
   "metadata": {},
   "outputs": [
    {
     "data": {
      "text/plain": [
       "MannwhitneyuResult(statistic=4.0, pvalue=0.0007062566825357588)"
      ]
     },
     "execution_count": 40,
     "metadata": {},
     "output_type": "execute_result"
    }
   ],
   "source": [
    "stats.mannwhitneyu(AUC_acc,Def_acc)"
   ]
  },
  {
   "cell_type": "code",
   "execution_count": 41,
   "metadata": {},
   "outputs": [
    {
     "data": {
      "text/plain": [
       "MannwhitneyuResult(statistic=4.0, pvalue=0.0007062566825357588)"
      ]
     },
     "execution_count": 41,
     "metadata": {},
     "output_type": "execute_result"
    }
   ],
   "source": [
    "stats.mannwhitneyu(AUC_acc,Def_acc)"
   ]
  },
  {
   "cell_type": "code",
   "execution_count": 42,
   "metadata": {},
   "outputs": [
    {
     "data": {
      "text/plain": [
       "MannwhitneyuResult(statistic=20.0, pvalue=0.03869430557100332)"
      ]
     },
     "execution_count": 42,
     "metadata": {},
     "output_type": "execute_result"
    }
   ],
   "source": [
    "stats.mannwhitneyu(AUC_auc,Def_auc)"
   ]
  },
  {
   "cell_type": "code",
   "execution_count": 46,
   "metadata": {},
   "outputs": [
    {
     "data": {
      "text/plain": [
       "MannwhitneyuResult(statistic=2.0, pvalue=0.00027325742825632597)"
      ]
     },
     "execution_count": 46,
     "metadata": {},
     "output_type": "execute_result"
    }
   ],
   "source": [
    "stats.mannwhitneyu(AUC_geoacc,Def_geoacc)"
   ]
  },
  {
   "cell_type": "code",
   "execution_count": 1,
   "metadata": {},
   "outputs": [],
   "source": [
    "from scipy import stats\n",
    "import pandas as pd\n",
    "from Oncetrain import * \n",
    "from Stat import *"
   ]
  },
  {
   "cell_type": "markdown",
   "metadata": {},
   "source": [
    "# 일단 다 읽기 "
   ]
  },
  {
   "cell_type": "code",
   "execution_count": 2,
   "metadata": {},
   "outputs": [],
   "source": [
    "Datalenlist = [1000]\n",
    "auc_res = readexcel('Result/AUCfit',Datalenlist)\n",
    "def_res = readexcel('Result/defalutfit',Datalenlist)"
   ]
  },
  {
   "cell_type": "markdown",
   "metadata": {},
   "source": [
    "# 읽은 것들 클래스화 "
   ]
  },
  {
   "cell_type": "code",
   "execution_count": 3,
   "metadata": {},
   "outputs": [],
   "source": [
    "def BeClass(dfs):\n",
    "    ClassList = []\n",
    "    for df in dfs:\n",
    "        df = DataListforStat(df)\n",
    "        ClassList.append(df)\n",
    "    return ClassList\n",
    "\n",
    "def DoDivList(dfs):\n",
    "    for df in dfs:\n",
    "        df.DivList()\n",
    "    return dfs"
   ]
  },
  {
   "cell_type": "code",
   "execution_count": 3,
   "metadata": {},
   "outputs": [],
   "source": [
    "auc_res = BeClass(auc_res)\n",
    "auc_res = DoDivList(auc_res)"
   ]
  },
  {
   "cell_type": "code",
   "execution_count": 4,
   "metadata": {},
   "outputs": [],
   "source": [
    "def_res = BeClass(def_res)\n",
    "def_res = DoDivList(def_res)"
   ]
  },
  {
   "cell_type": "code",
   "execution_count": 6,
   "metadata": {},
   "outputs": [],
   "source": [
    "def PrintMannStat(leftlist, rightlist, Numbers, leftstr,rightstr):\n",
    "    FrameList = []\n",
    "    for Number in Numbers:\n",
    "        for l, r in zip(leftlist, rightlist):\n",
    "            x_1,y_1 = Mann(l.acc,r.acc, Number ,leftstr, rightstr,\"ACC\")\n",
    "            x_2,y_2 = Mann(l.auc,r.auc, Number ,leftstr, rightstr,\"AUC\")\n",
    "            x_3,y_3 = Mann(l.geoacc,r.geoacc, Number ,leftstr, rightstr,\"GEOACC\")\n",
    "            now = pd.DataFrame([x_1,y_1,x_2,y_2,x_3,y_3], \\\n",
    "                                index = [[\"ACC\"]*2+[\"AUC\"]*2+[\"GEOACC\"]*2,[\"statistic\",\"p-value\"]*3] , \\\n",
    "                                columns = [str(Number)])\n",
    "            FrameList.append(now)\n",
    "    return pd.concat(FrameList,axis=1)\n",
    "    "
   ]
  },
  {
   "cell_type": "code",
   "execution_count": 7,
   "metadata": {},
   "outputs": [
    {
     "name": "stdout",
     "output_type": "stream",
     "text": [
      "1000\tDEFAULTFIT & AUCFIT\tMeasure : ACC\n",
      "\n",
      "\n",
      "statistic : 4 , pvalue : 0.0007063\n",
      "\n",
      "1000\tDEFAULTFIT & AUCFIT\tMeasure : AUC\n",
      "\n",
      "\n",
      "statistic : 20 , pvalue : 0.0386943\n",
      "\n",
      "1000\tDEFAULTFIT & AUCFIT\tMeasure : GEOACC\n",
      "\n",
      "\n",
      "statistic : 2 , pvalue : 0.0002733\n",
      "\n"
     ]
    },
    {
     "data": {
      "text/html": [
       "<div>\n",
       "<style scoped>\n",
       "    .dataframe tbody tr th:only-of-type {\n",
       "        vertical-align: middle;\n",
       "    }\n",
       "\n",
       "    .dataframe tbody tr th {\n",
       "        vertical-align: top;\n",
       "    }\n",
       "\n",
       "    .dataframe thead th {\n",
       "        text-align: right;\n",
       "    }\n",
       "</style>\n",
       "<table border=\"1\" class=\"dataframe\">\n",
       "  <thead>\n",
       "    <tr style=\"text-align: right;\">\n",
       "      <th></th>\n",
       "      <th></th>\n",
       "      <th>1000</th>\n",
       "    </tr>\n",
       "  </thead>\n",
       "  <tbody>\n",
       "    <tr>\n",
       "      <th rowspan=\"2\" valign=\"top\">ACC</th>\n",
       "      <th>statistic</th>\n",
       "      <td>4.000000</td>\n",
       "    </tr>\n",
       "    <tr>\n",
       "      <th>p-value</th>\n",
       "      <td>0.000706</td>\n",
       "    </tr>\n",
       "    <tr>\n",
       "      <th rowspan=\"2\" valign=\"top\">AUC</th>\n",
       "      <th>statistic</th>\n",
       "      <td>20.000000</td>\n",
       "    </tr>\n",
       "    <tr>\n",
       "      <th>p-value</th>\n",
       "      <td>0.038694</td>\n",
       "    </tr>\n",
       "    <tr>\n",
       "      <th rowspan=\"2\" valign=\"top\">GEOACC</th>\n",
       "      <th>statistic</th>\n",
       "      <td>2.000000</td>\n",
       "    </tr>\n",
       "    <tr>\n",
       "      <th>p-value</th>\n",
       "      <td>0.000273</td>\n",
       "    </tr>\n",
       "  </tbody>\n",
       "</table>\n",
       "</div>"
      ],
      "text/plain": [
       "                       1000\n",
       "ACC    statistic   4.000000\n",
       "       p-value     0.000706\n",
       "AUC    statistic  20.000000\n",
       "       p-value     0.038694\n",
       "GEOACC statistic   2.000000\n",
       "       p-value     0.000273"
      ]
     },
     "execution_count": 7,
     "metadata": {},
     "output_type": "execute_result"
    }
   ],
   "source": [
    "PrintMannStat(def_res,auc_res,Datalenlist,\"DEFAULTFIT\", \"AUCFIT\")"
   ]
  },
  {
   "cell_type": "code",
   "execution_count": 15,
   "metadata": {},
   "outputs": [
    {
     "data": {
      "text/html": [
       "<div>\n",
       "<style scoped>\n",
       "    .dataframe tbody tr th:only-of-type {\n",
       "        vertical-align: middle;\n",
       "    }\n",
       "\n",
       "    .dataframe tbody tr th {\n",
       "        vertical-align: top;\n",
       "    }\n",
       "\n",
       "    .dataframe thead th {\n",
       "        text-align: right;\n",
       "    }\n",
       "</style>\n",
       "<table border=\"1\" class=\"dataframe\">\n",
       "  <thead>\n",
       "    <tr style=\"text-align: right;\">\n",
       "      <th></th>\n",
       "      <th>str</th>\n",
       "    </tr>\n",
       "  </thead>\n",
       "  <tbody>\n",
       "    <tr>\n",
       "      <th>0</th>\n",
       "      <td>1</td>\n",
       "    </tr>\n",
       "    <tr>\n",
       "      <th>1</th>\n",
       "      <td>2</td>\n",
       "    </tr>\n",
       "  </tbody>\n",
       "</table>\n",
       "</div>"
      ],
      "text/plain": [
       "   str\n",
       "0    1\n",
       "1    2"
      ]
     },
     "execution_count": 15,
     "metadata": {},
     "output_type": "execute_result"
    }
   ],
   "source": [
    "pd.DataFrame([1,2],columns= [\"str\"])"
   ]
  },
  {
   "cell_type": "code",
   "execution_count": null,
   "metadata": {},
   "outputs": [],
   "source": []
  }
 ],
 "metadata": {
  "kernelspec": {
   "display_name": "Python 3",
   "language": "python",
   "name": "python3"
  },
  "language_info": {
   "codemirror_mode": {
    "name": "ipython",
    "version": 3
   },
   "file_extension": ".py",
   "mimetype": "text/x-python",
   "name": "python",
   "nbconvert_exporter": "python",
   "pygments_lexer": "ipython3",
   "version": "3.7.6"
  }
 },
 "nbformat": 4,
 "nbformat_minor": 4
}
