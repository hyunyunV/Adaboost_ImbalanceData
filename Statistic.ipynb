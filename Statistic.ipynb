{
 "cells": [
  {
   "cell_type": "code",
   "execution_count": 3,
   "metadata": {},
   "outputs": [],
   "source": [
    "from scipy import stats\n",
    "import pandas as pd\n",
    "from Oncetrain import * \n",
    "from Stat import *"
   ]
  },
  {
   "cell_type": "code",
   "execution_count": 7,
   "metadata": {},
   "outputs": [],
   "source": [
    "Datalenlist = [1000,1500,2500,5500,10500]\n",
    "auc_res = readexcel('Result/AUCfit',Datalenlist)\n",
    "def_res = readexcel('Result/defalutfit',Datalenlist)"
   ]
  },
  {
   "cell_type": "code",
   "execution_count": 8,
   "metadata": {},
   "outputs": [],
   "source": [
    "auc_res = BeClass(auc_res)\n",
    "auc_res = DoDivList(auc_res)"
   ]
  },
  {
   "cell_type": "code",
   "execution_count": 9,
   "metadata": {},
   "outputs": [],
   "source": [
    "def_res = BeClass(def_res)\n",
    "def_res = DoDivList(def_res)"
   ]
  },
  {
   "cell_type": "code",
   "execution_count": 10,
   "metadata": {
    "collapsed": true
   },
   "outputs": [
    {
     "name": "stdout",
     "output_type": "stream",
     "text": [
      "1000\tDEFAULTFIT & AUCFIT\tMeasure : ACC\n",
      "\n",
      "\n",
      "statistic : 248 , pvalue : 0.0013966\n",
      "\n",
      "1000\tDEFAULTFIT & AUCFIT\tMeasure : AUC\n",
      "\n",
      "\n",
      "statistic : 254 , pvalue : 0.0019233\n",
      "\n",
      "1000\tDEFAULTFIT & AUCFIT\tMeasure : GEOACC\n",
      "\n",
      "\n",
      "statistic : 240 , pvalue : 0.0009705\n",
      "\n",
      "1500\tDEFAULTFIT & AUCFIT\tMeasure : ACC\n",
      "\n",
      "\n",
      "statistic : 0 , pvalue : 0.0000000\n",
      "\n",
      "1500\tDEFAULTFIT & AUCFIT\tMeasure : AUC\n",
      "\n",
      "\n",
      "statistic : 302 , pvalue : 0.0146027\n",
      "\n",
      "1500\tDEFAULTFIT & AUCFIT\tMeasure : GEOACC\n",
      "\n",
      "\n",
      "statistic : 0 , pvalue : 0.0000000\n",
      "\n",
      "2500\tDEFAULTFIT & AUCFIT\tMeasure : ACC\n",
      "\n",
      "\n",
      "statistic : 90 , pvalue : 0.0000000\n",
      "\n",
      "2500\tDEFAULTFIT & AUCFIT\tMeasure : AUC\n",
      "\n",
      "\n",
      "statistic : 206 , pvalue : 0.0001591\n",
      "\n",
      "2500\tDEFAULTFIT & AUCFIT\tMeasure : GEOACC\n",
      "\n",
      "\n",
      "statistic : 0 , pvalue : 0.0000000\n",
      "\n",
      "5500\tDEFAULTFIT & AUCFIT\tMeasure : ACC\n",
      "\n",
      "\n",
      "statistic : 0 , pvalue : 0.0000000\n",
      "\n",
      "5500\tDEFAULTFIT & AUCFIT\tMeasure : AUC\n",
      "\n",
      "\n",
      "statistic : 140 , pvalue : 0.0000024\n",
      "\n",
      "5500\tDEFAULTFIT & AUCFIT\tMeasure : GEOACC\n",
      "\n",
      "\n",
      "statistic : 0 , pvalue : 0.0000000\n",
      "\n",
      "10500\tDEFAULTFIT & AUCFIT\tMeasure : ACC\n",
      "\n",
      "\n",
      "statistic : 0 , pvalue : 0.0000000\n",
      "\n",
      "10500\tDEFAULTFIT & AUCFIT\tMeasure : AUC\n",
      "\n",
      "\n",
      "statistic : 180 , pvalue : 0.0000338\n",
      "\n",
      "10500\tDEFAULTFIT & AUCFIT\tMeasure : GEOACC\n",
      "\n",
      "\n",
      "statistic : 0 , pvalue : 0.0000000\n",
      "\n"
     ]
    }
   ],
   "source": [
    "df = PrintMannStat(def_res,auc_res,Datalenlist,\"DEFAULTFIT\", \"AUCFIT\")"
   ]
  },
  {
   "cell_type": "code",
   "execution_count": 11,
   "metadata": {},
   "outputs": [],
   "source": [
    "df.to_excel(\"Result/StatDF.xlsx\")"
   ]
  },
  {
   "cell_type": "code",
   "execution_count": 12,
   "metadata": {},
   "outputs": [
    {
     "data": {
      "text/plain": [
       "MannwhitneyuResult(statistic=180.0, pvalue=3.3825041231857496e-05)"
      ]
     },
     "execution_count": 12,
     "metadata": {},
     "output_type": "execute_result"
    }
   ],
   "source": [
    "stats.mannwhitneyu(def_res[4].auc, auc_res[4].auc)"
   ]
  },
  {
   "cell_type": "code",
   "execution_count": 13,
   "metadata": {},
   "outputs": [
    {
     "name": "stdout",
     "output_type": "stream",
     "text": [
      "------------------------------\n",
      " acc_mean : 0.85 \n",
      " acc_std : 0.07 \n",
      " auc_mean : 0.93 \n",
      " auc_std : 0.04 \n",
      " geoacc_mean : 0.84 \n",
      " geoacc_std : 0.09 \n",
      "------------------------------\n",
      "------------------------------\n",
      " acc_mean : 0.67 \n",
      " acc_std : 0.00 \n",
      " auc_mean : 0.91 \n",
      " auc_std : 0.05 \n",
      " geoacc_mean : 0.00 \n",
      " geoacc_std : 0.00 \n",
      "------------------------------\n",
      "------------------------------\n",
      " acc_mean : 0.80 \n",
      " acc_std : 0.00 \n",
      " auc_mean : 0.87 \n",
      " auc_std : 0.06 \n",
      " geoacc_mean : 0.00 \n",
      " geoacc_std : 0.00 \n",
      "------------------------------\n",
      "------------------------------\n",
      " acc_mean : 0.91 \n",
      " acc_std : 0.00 \n",
      " auc_mean : 0.81 \n",
      " auc_std : 0.06 \n",
      " geoacc_mean : 0.00 \n",
      " geoacc_std : 0.00 \n",
      "------------------------------\n",
      "------------------------------\n",
      " acc_mean : 0.95 \n",
      " acc_std : 0.00 \n",
      " auc_mean : 0.79 \n",
      " auc_std : 0.06 \n",
      " geoacc_mean : 0.00 \n",
      " geoacc_std : 0.00 \n",
      "------------------------------\n",
      "------------------------------\n",
      " acc_mean : 0.90 \n",
      " acc_std : 0.04 \n",
      " auc_mean : 0.96 \n",
      " auc_std : 0.03 \n",
      " geoacc_mean : 0.89 \n",
      " geoacc_std : 0.04 \n",
      "------------------------------\n",
      "------------------------------\n",
      " acc_mean : 0.88 \n",
      " acc_std : 0.03 \n",
      " auc_mean : 0.94 \n",
      " auc_std : 0.03 \n",
      " geoacc_mean : 0.87 \n",
      " geoacc_std : 0.03 \n",
      "------------------------------\n",
      "------------------------------\n",
      " acc_mean : 0.85 \n",
      " acc_std : 0.03 \n",
      " auc_mean : 0.92 \n",
      " auc_std : 0.03 \n",
      " geoacc_mean : 0.84 \n",
      " geoacc_std : 0.04 \n",
      "------------------------------\n",
      "------------------------------\n",
      " acc_mean : 0.80 \n",
      " acc_std : 0.03 \n",
      " auc_mean : 0.87 \n",
      " auc_std : 0.04 \n",
      " geoacc_mean : 0.79 \n",
      " geoacc_std : 0.04 \n",
      "------------------------------\n",
      "------------------------------\n",
      " acc_mean : 0.77 \n",
      " acc_std : 0.03 \n",
      " auc_mean : 0.85 \n",
      " auc_std : 0.04 \n",
      " geoacc_mean : 0.77 \n",
      " geoacc_std : 0.04 \n",
      "------------------------------\n"
     ]
    }
   ],
   "source": [
    "Datalenlist = [1000,1500,2500,5500,10500]\n",
    "auc_res = readexcel('Result/AUCfit',Datalenlist)\n",
    "def_res = readexcel('Result/defalutfit',Datalenlist)\n",
    "valaccauc(def_ress)\n",
    "valaccauc(auc_ress)\n"
   ]
  },
  {
   "cell_type": "code",
   "execution_count": null,
   "metadata": {},
   "outputs": [],
   "source": []
  }
 ],
 "metadata": {
  "kernelspec": {
   "display_name": "Python 3",
   "language": "python",
   "name": "python3"
  },
  "language_info": {
   "codemirror_mode": {
    "name": "ipython",
    "version": 3
   },
   "file_extension": ".py",
   "mimetype": "text/x-python",
   "name": "python",
   "nbconvert_exporter": "python",
   "pygments_lexer": "ipython3",
   "version": "3.7.6"
  }
 },
 "nbformat": 4,
 "nbformat_minor": 4
}
